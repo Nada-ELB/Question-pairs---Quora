{
  "nbformat": 4,
  "nbformat_minor": 0,
  "metadata": {
    "colab": {
      "name": "Question Pairs.ipynb",
      "provenance": [],
      "collapsed_sections": []
    },
    "kernelspec": {
      "name": "python3",
      "display_name": "Python 3"
    },
    "accelerator": "GPU"
  },
  "cells": [
    {
      "cell_type": "markdown",
      "metadata": {
        "id": "qsEM91IRG0bz"
      },
      "source": [
        "**Quora Question Pairs using Siamese Manhattan LSTM**"
      ]
    },
    {
      "cell_type": "markdown",
      "metadata": {
        "id": "SZJcXMXNFzke"
      },
      "source": [
        "import all the necessary packages"
      ]
    },
    {
      "cell_type": "code",
      "metadata": {
        "id": "7xtA755QBxKy"
      },
      "source": [
        "from time import time\n",
        "import pandas as pd\n",
        "import numpy as np\n",
        "from gensim.models import KeyedVectors\n",
        "import re\n",
        "from nltk.corpus import stopwords\n",
        "from sklearn.model_selection import train_test_split\n",
        "import matplotlib.pyplot as plt\n",
        "import seaborn as sns\n",
        "\n",
        "import itertools\n",
        "import datetime\n",
        "import tqdm\n",
        "\n",
        "import tensorflow as tf\n",
        "from keras.preprocessing.sequence import pad_sequences\n",
        "from keras.models import Model\n",
        "from keras.layers import Input, Embedding, LSTM, Lambda\n",
        "import keras.backend as K\n",
        "from keras.optimizers import Adadelta, Adam\n",
        "from keras.callbacks import ModelCheckpoint"
      ],
      "execution_count": 35,
      "outputs": []
    },
    {
      "cell_type": "code",
      "metadata": {
        "colab": {
          "base_uri": "https://localhost:8080/",
          "height": 0
        },
        "id": "Gjfm1g-2FTpm",
        "outputId": "f0dc67f9-be16-4b76-cf52-ca53265e615e"
      },
      "source": [
        "from google.colab import drive\n",
        "drive.mount('/content/drive')"
      ],
      "execution_count": 3,
      "outputs": [
        {
          "output_type": "stream",
          "text": [
            "Drive already mounted at /content/drive; to attempt to forcibly remount, call drive.mount(\"/content/drive\", force_remount=True).\n"
          ],
          "name": "stdout"
        }
      ]
    },
    {
      "cell_type": "markdown",
      "metadata": {
        "id": "DmnWSlI_F6n7"
      },
      "source": [
        "\n",
        "Global variables"
      ]
    },
    {
      "cell_type": "code",
      "metadata": {
        "id": "-Jhgy5nCEHWR"
      },
      "source": [
        "# File paths\n",
        "TRAIN_CSV = '/content/drive/MyDrive/Deep Learning/quora-question-pairs/train.csv'\n",
        "TEST_CSV = '/content/drive/MyDrive/Deep Learning/quora-question-pairs/test.csv'\n",
        "EMBEDDING_FILE = '/content/drive/MyDrive/Deep Learning/quora-question-pairs/Copie de GoogleNews-vectors-negative300.bin.gz'\n",
        "#MODEL_SAVING_DIR = '/home/ecohen/HDD/HDD4/Models/Kaggle/Quora/'"
      ],
      "execution_count": 4,
      "outputs": []
    },
    {
      "cell_type": "code",
      "metadata": {
        "colab": {
          "base_uri": "https://localhost:8080/",
          "height": 0
        },
        "id": "zbR74hPWPDuv",
        "outputId": "8c6de5bc-fa21-4b89-8519-bb84aa1fa34e"
      },
      "source": [
        "#import the nltk stopwords\n",
        "import nltk\n",
        "nltk.download(\"stopwords\") "
      ],
      "execution_count": 5,
      "outputs": [
        {
          "output_type": "stream",
          "text": [
            "[nltk_data] Downloading package stopwords to /root/nltk_data...\n",
            "[nltk_data]   Unzipping corpora/stopwords.zip.\n"
          ],
          "name": "stdout"
        },
        {
          "output_type": "execute_result",
          "data": {
            "text/plain": [
              "True"
            ]
          },
          "metadata": {
            "tags": []
          },
          "execution_count": 5
        }
      ]
    },
    {
      "cell_type": "markdown",
      "metadata": {
        "id": "1m_3S3_RLIUL"
      },
      "source": [
        "Training and Test datasets"
      ]
    },
    {
      "cell_type": "code",
      "metadata": {
        "id": "VyKq1_uA9xYX"
      },
      "source": [
        "# Load training and test set\n",
        "train_df = pd.read_csv(TRAIN_CSV)\n",
        "test_df = pd.read_csv(TEST_CSV)"
      ],
      "execution_count": 6,
      "outputs": []
    },
    {
      "cell_type": "code",
      "metadata": {
        "colab": {
          "base_uri": "https://localhost:8080/",
          "height": 216
        },
        "id": "AT-m57WZ9u0N",
        "outputId": "eb941a1c-bba1-4983-905c-6e2d4665b3a7"
      },
      "source": [
        "print(train_df.shape)\n",
        "train_df.head()"
      ],
      "execution_count": 7,
      "outputs": [
        {
          "output_type": "stream",
          "text": [
            "(404290, 6)\n"
          ],
          "name": "stdout"
        },
        {
          "output_type": "execute_result",
          "data": {
            "text/html": [
              "<div>\n",
              "<style scoped>\n",
              "    .dataframe tbody tr th:only-of-type {\n",
              "        vertical-align: middle;\n",
              "    }\n",
              "\n",
              "    .dataframe tbody tr th {\n",
              "        vertical-align: top;\n",
              "    }\n",
              "\n",
              "    .dataframe thead th {\n",
              "        text-align: right;\n",
              "    }\n",
              "</style>\n",
              "<table border=\"1\" class=\"dataframe\">\n",
              "  <thead>\n",
              "    <tr style=\"text-align: right;\">\n",
              "      <th></th>\n",
              "      <th>id</th>\n",
              "      <th>qid1</th>\n",
              "      <th>qid2</th>\n",
              "      <th>question1</th>\n",
              "      <th>question2</th>\n",
              "      <th>is_duplicate</th>\n",
              "    </tr>\n",
              "  </thead>\n",
              "  <tbody>\n",
              "    <tr>\n",
              "      <th>0</th>\n",
              "      <td>0</td>\n",
              "      <td>1</td>\n",
              "      <td>2</td>\n",
              "      <td>What is the step by step guide to invest in sh...</td>\n",
              "      <td>What is the step by step guide to invest in sh...</td>\n",
              "      <td>0</td>\n",
              "    </tr>\n",
              "    <tr>\n",
              "      <th>1</th>\n",
              "      <td>1</td>\n",
              "      <td>3</td>\n",
              "      <td>4</td>\n",
              "      <td>What is the story of Kohinoor (Koh-i-Noor) Dia...</td>\n",
              "      <td>What would happen if the Indian government sto...</td>\n",
              "      <td>0</td>\n",
              "    </tr>\n",
              "    <tr>\n",
              "      <th>2</th>\n",
              "      <td>2</td>\n",
              "      <td>5</td>\n",
              "      <td>6</td>\n",
              "      <td>How can I increase the speed of my internet co...</td>\n",
              "      <td>How can Internet speed be increased by hacking...</td>\n",
              "      <td>0</td>\n",
              "    </tr>\n",
              "    <tr>\n",
              "      <th>3</th>\n",
              "      <td>3</td>\n",
              "      <td>7</td>\n",
              "      <td>8</td>\n",
              "      <td>Why am I mentally very lonely? How can I solve...</td>\n",
              "      <td>Find the remainder when [math]23^{24}[/math] i...</td>\n",
              "      <td>0</td>\n",
              "    </tr>\n",
              "    <tr>\n",
              "      <th>4</th>\n",
              "      <td>4</td>\n",
              "      <td>9</td>\n",
              "      <td>10</td>\n",
              "      <td>Which one dissolve in water quikly sugar, salt...</td>\n",
              "      <td>Which fish would survive in salt water?</td>\n",
              "      <td>0</td>\n",
              "    </tr>\n",
              "  </tbody>\n",
              "</table>\n",
              "</div>"
            ],
            "text/plain": [
              "   id  qid1  ...                                          question2 is_duplicate\n",
              "0   0     1  ...  What is the step by step guide to invest in sh...            0\n",
              "1   1     3  ...  What would happen if the Indian government sto...            0\n",
              "2   2     5  ...  How can Internet speed be increased by hacking...            0\n",
              "3   3     7  ...  Find the remainder when [math]23^{24}[/math] i...            0\n",
              "4   4     9  ...            Which fish would survive in salt water?            0\n",
              "\n",
              "[5 rows x 6 columns]"
            ]
          },
          "metadata": {
            "tags": []
          },
          "execution_count": 7
        }
      ]
    },
    {
      "cell_type": "code",
      "metadata": {
        "colab": {
          "base_uri": "https://localhost:8080/",
          "height": 216
        },
        "id": "QmgmMcgeIsSz",
        "outputId": "197bef1d-077b-4f18-dd7f-6244c03bd3a4"
      },
      "source": [
        "print(test_df.shape)\n",
        "test_df.head()"
      ],
      "execution_count": 8,
      "outputs": [
        {
          "output_type": "stream",
          "text": [
            "(2345796, 3)\n"
          ],
          "name": "stdout"
        },
        {
          "output_type": "execute_result",
          "data": {
            "text/html": [
              "<div>\n",
              "<style scoped>\n",
              "    .dataframe tbody tr th:only-of-type {\n",
              "        vertical-align: middle;\n",
              "    }\n",
              "\n",
              "    .dataframe tbody tr th {\n",
              "        vertical-align: top;\n",
              "    }\n",
              "\n",
              "    .dataframe thead th {\n",
              "        text-align: right;\n",
              "    }\n",
              "</style>\n",
              "<table border=\"1\" class=\"dataframe\">\n",
              "  <thead>\n",
              "    <tr style=\"text-align: right;\">\n",
              "      <th></th>\n",
              "      <th>test_id</th>\n",
              "      <th>question1</th>\n",
              "      <th>question2</th>\n",
              "    </tr>\n",
              "  </thead>\n",
              "  <tbody>\n",
              "    <tr>\n",
              "      <th>0</th>\n",
              "      <td>0</td>\n",
              "      <td>How does the Surface Pro himself 4 compare wit...</td>\n",
              "      <td>Why did Microsoft choose core m3 and not core ...</td>\n",
              "    </tr>\n",
              "    <tr>\n",
              "      <th>1</th>\n",
              "      <td>1</td>\n",
              "      <td>Should I have a hair transplant at age 24? How...</td>\n",
              "      <td>How much cost does hair transplant require?</td>\n",
              "    </tr>\n",
              "    <tr>\n",
              "      <th>2</th>\n",
              "      <td>2</td>\n",
              "      <td>What but is the best way to send money from Ch...</td>\n",
              "      <td>What you send money to China?</td>\n",
              "    </tr>\n",
              "    <tr>\n",
              "      <th>3</th>\n",
              "      <td>3</td>\n",
              "      <td>Which food not emulsifiers?</td>\n",
              "      <td>What foods fibre?</td>\n",
              "    </tr>\n",
              "    <tr>\n",
              "      <th>4</th>\n",
              "      <td>4</td>\n",
              "      <td>How \"aberystwyth\" start reading?</td>\n",
              "      <td>How their can I start reading?</td>\n",
              "    </tr>\n",
              "  </tbody>\n",
              "</table>\n",
              "</div>"
            ],
            "text/plain": [
              "   test_id  ...                                          question2\n",
              "0        0  ...  Why did Microsoft choose core m3 and not core ...\n",
              "1        1  ...        How much cost does hair transplant require?\n",
              "2        2  ...                      What you send money to China?\n",
              "3        3  ...                                  What foods fibre?\n",
              "4        4  ...                     How their can I start reading?\n",
              "\n",
              "[5 rows x 3 columns]"
            ]
          },
          "metadata": {
            "tags": []
          },
          "execution_count": 8
        }
      ]
    },
    {
      "cell_type": "markdown",
      "metadata": {
        "id": "a6dNPsm8F9Jj"
      },
      "source": [
        "\n",
        "Create embedding matrix, using word2vec"
      ]
    },
    {
      "cell_type": "code",
      "metadata": {
        "id": "F7Y4t37oFm6C",
        "colab": {
          "base_uri": "https://localhost:8080/",
          "height": 0
        },
        "outputId": "1a029b81-3d92-4d5b-af94-1d2d015ca616"
      },
      "source": [
        "#English stopwords\n",
        "stops = set(stopwords.words('english'))\n",
        "\n",
        "\n",
        "def text_to_word_list(text):\n",
        "    ''' Pre process and convert texts to a list of lower case words '''\n",
        "    text = str(text)\n",
        "    text = text.lower()\n",
        "\n",
        "    # Cleaning the text\n",
        "    text = re.sub(r\"[^A-Za-z0-9^,!.\\/'+-=]\", \" \", text)\n",
        "    text = re.sub(r\"what's\", \"what is \", text)\n",
        "    text = re.sub(r\"\\'s\", \" \", text)\n",
        "    text = re.sub(r\"\\'ve\", \" have \", text)\n",
        "    text = re.sub(r\"can't\", \"cannot \", text)\n",
        "    text = re.sub(r\"n't\", \" not \", text)\n",
        "    text = re.sub(r\"i'm\", \"i am \", text)\n",
        "    text = re.sub(r\"\\'re\", \" are \", text)\n",
        "    text = re.sub(r\"\\'d\", \" would \", text)\n",
        "    text = re.sub(r\"\\'ll\", \" will \", text)\n",
        "    text = re.sub(r\",\", \" \", text)\n",
        "    text = re.sub(r\"\\.\", \" \", text)\n",
        "    text = re.sub(r\"!\", \" ! \", text)\n",
        "    text = re.sub(r\"\\/\", \" \", text)\n",
        "    text = re.sub(r\"\\^\", \" ^ \", text)\n",
        "    text = re.sub(r\"\\+\", \" + \", text)\n",
        "    text = re.sub(r\"\\-\", \" - \", text)\n",
        "    text = re.sub(r\"\\=\", \" = \", text)\n",
        "    text = re.sub(r\"'\", \" \", text)\n",
        "    text = re.sub(r\"(\\d+)(k)\", r\"\\g<1>000\", text)\n",
        "    text = re.sub(r\":\", \" : \", text)\n",
        "    text = re.sub(r\" e g \", \" eg \", text)\n",
        "    text = re.sub(r\" b g \", \" bg \", text)\n",
        "    text = re.sub(r\" u s \", \" american \", text)\n",
        "    text = re.sub(r\"\\0s\", \"0\", text)\n",
        "    text = re.sub(r\" 9 11 \", \"911\", text)\n",
        "    text = re.sub(r\"e - mail\", \"email\", text)\n",
        "    text = re.sub(r\"j k\", \"jk\", text)\n",
        "    text = re.sub(r\"\\s{2,}\", \" \", text)\n",
        "\n",
        "    text = text.split()\n",
        "\n",
        "    return text\n",
        "\n",
        "# Prepare embedding\n",
        "vocabulary = dict()\n",
        "inverse_vocabulary = ['<unk>']  # '<unk>' will never be used, it is only a placeholder for the [0, 0, ....0] embedding\n",
        "word2vec = KeyedVectors.load_word2vec_format(EMBEDDING_FILE, binary=True)\n",
        "\n",
        "questions_cols = ['question1', 'question2']\n",
        "\n",
        "\n",
        "# Iterate over the questions only of both training and test datasets\n",
        "for dataset in [train_df, test_df]:\n",
        "    for index, row in dataset.iterrows():\n",
        "\n",
        "        # Iterate through the text of both questions of the row\n",
        "        for question in questions_cols:\n",
        "\n",
        "            q2n = []  # q2n -> question numbers representation\n",
        "            for word in text_to_word_list(row[question]):\n",
        "\n",
        "                # Check for unwanted words\n",
        "                if word in stops and word not in word2vec.vocab:\n",
        "                    continue\n",
        "                    \n",
        "                #vocabulary : words => indices\n",
        "                #inverse_vocabulary : words where indx match id vocab\n",
        "\n",
        "                if word not in vocabulary:\n",
        "                    vocabulary[word] = len(inverse_vocabulary)\n",
        "                    q2n.append(len(vocabulary))\n",
        "                    inverse_vocabulary.append(word)\n",
        "                else:\n",
        "                    q2n.append(vocabulary[word])\n",
        "\n",
        "            # Replace questions as word to question as number representation\n",
        "            #dataset.set_value(index, question, q2n)\n",
        "            dataset.at[index, question] = q2n \n",
        "\n",
        "#create embedding matrix         \n",
        "embedding_dim = 300\n",
        "embeddings = 1 * np.random.randn(len(vocabulary) + 1, embedding_dim)  # This will be the embedding matrix\n",
        "embeddings[0] = 0  # So that the padding will be ignored\n",
        "\n",
        "# Build the embedding matrix\n",
        "for word, index in vocabulary.items():\n",
        "    if word in word2vec.vocab:\n",
        "        embeddings[index] = word2vec.word_vec(word)\n",
        "\n",
        "del word2vec #to free space\n",
        "\n",
        "#length of embedding matrix\n",
        "mat_emb = len(embeddings)\n",
        "print(mat_emb)"
      ],
      "execution_count": 9,
      "outputs": [
        {
          "output_type": "stream",
          "text": [
            "121320\n"
          ],
          "name": "stdout"
        }
      ]
    },
    {
      "cell_type": "markdown",
      "metadata": {
        "id": "vFjKcxEbGAga"
      },
      "source": [
        "Prepare training and validation data"
      ]
    },
    {
      "cell_type": "code",
      "metadata": {
        "id": "n1F0hgWRGBHy"
      },
      "source": [
        "#the length of the longest question\n",
        "max_seq_length = max(train_df.question1.map(lambda x: len(x)).max(),\n",
        "                     train_df.question2.map(lambda x: len(x)).max(),\n",
        "                     test_df.question1.map(lambda x: len(x)).max(),\n",
        "                     test_df.question2.map(lambda x: len(x)).max())\n",
        "\n",
        "# Split to train validation\n",
        "validation_size = 40000\n",
        "training_size = len(train_df) - validation_size\n",
        "\n",
        "X = train_df[questions_cols]\n",
        "Y = train_df['is_duplicate']\n",
        "\n",
        "X_train, X_validation, Y_train, Y_validation = train_test_split(X, Y, test_size=validation_size)\n",
        "\n",
        "# Split to dicts\n",
        "X_train = {'left': X_train.question1, 'right': X_train.question2}\n",
        "X_validation = {'left': X_validation.question1, 'right': X_validation.question2}\n",
        "X_test = {'left': test_df.question1, 'right': test_df.question2}\n",
        "\n",
        "# Convert labels to their numpy representations\n",
        "Y_train = Y_train.values\n",
        "Y_validation = Y_validation.values\n",
        "\n",
        "# Zero padding\n",
        "#itertools.product gives all the combinations between the two lists\n",
        "for dataset, side in itertools.product([X_train, X_validation, X_test], ['left', 'right']):\n",
        "    dataset[side] = pad_sequences(dataset[side], maxlen=max_seq_length)\n",
        "\n",
        "# Make sure everything is ok\n",
        "assert X_train['left'].shape == X_train['right'].shape\n",
        "assert len(X_train['left']) == len(Y_train)\n",
        "\n",
        "assert X_test['left'].shape == X_test['right'].shape"
      ],
      "execution_count": 79,
      "outputs": []
    },
    {
      "cell_type": "markdown",
      "metadata": {
        "id": "0CUelL28GE81"
      },
      "source": [
        "Build the MaLSTM model"
      ]
    },
    {
      "cell_type": "code",
      "metadata": {
        "id": "fVtpRnlnGHAp",
        "colab": {
          "base_uri": "https://localhost:8080/",
          "height": 0
        },
        "outputId": "d6abe5d5-70af-428e-b1d2-e31fc0923bb2"
      },
      "source": [
        "# Model variables\n",
        "n_hidden = 50\n",
        "#gradient_clipping_norm = 1.25\n",
        "batch_size = 64\n",
        "n_epoch = 25\n",
        "\n",
        "# MaLSTM similarity function\n",
        "def exponent_neg_manhattan_distance(left, right):\n",
        "    ''' Helper function for the similarity estimate of the LSTMs outputs'''\n",
        "    return K.exp(-K.sum(K.abs(left-right), axis=1, keepdims=True))\n",
        "#Trying an other distance to compare : Cosine / euclidienne \n",
        "\n",
        "# The visible layer\n",
        "left_input = Input(shape=(max_seq_length,), dtype='int32')\n",
        "right_input = Input(shape=(max_seq_length,), dtype='int32')\n",
        "\n",
        "embedding_layer = Embedding(len(embeddings), embedding_dim, weights=[embeddings], input_length=max_seq_length, trainable=False)\n",
        "\n",
        "# Embedded version of the inputs\n",
        "encoded_left = embedding_layer(left_input)\n",
        "encoded_right = embedding_layer(right_input)\n",
        "\n",
        "# Since this is a siamese network, both sides share the same LSTM\n",
        "shared_lstm = LSTM(n_hidden)\n",
        "\n",
        "left_output = shared_lstm(encoded_left)\n",
        "right_output = shared_lstm(encoded_right)\n",
        "\n",
        "# Calculates the distance as defined by the MaLSTM model\n",
        "malstm_distance = Lambda(function=lambda x: exponent_neg_manhattan_distance(x[0], x[1]),\n",
        "                         output_shape=lambda x: (x[0][0], 1))([left_output, right_output])\n",
        "\n",
        "# Pack it all up into a model\n",
        "malstm = Model([left_input, right_input], [malstm_distance])\n",
        "\n",
        "# Adadelta optimizer, with gradient clipping by norm\n",
        "#optimizer = Adadelta(clipnorm=gradient_clipping_norm)\n",
        "#malstm.compile(loss='mean_squared_error', optimizer=optimizer, metrics=['accuracy'])\n",
        "\n",
        "#Cross Entroy and normalize the gradients with RmsProp\n",
        "#malstm.compile(loss='binary_crossentropy', optimizer='rmsprop', metrics=['accuracy'])\n",
        "\n",
        "#Trying MSE and Adam Optimizer !\n",
        "malstm.compile(loss='mean_squared_error', optimizer='adam', metrics=['accuracy'])\n",
        "\n",
        "# Start training\n",
        "training_start_time = time()\n",
        "\n",
        "malstm_trained = malstm.fit([X_train['left'], X_train['right']],\n",
        "                            Y_train, batch_size=batch_size, epochs=n_epoch, \n",
        "                            validation_data=([X_validation['left'],X_validation['right']], Y_validation))\n",
        "\n",
        "print(\"Training time finished.\\n{} epochs in {}\".format(n_epoch, datetime.timedelta(seconds=time()-training_start_time)))"
      ],
      "execution_count": 11,
      "outputs": [
        {
          "output_type": "stream",
          "text": [
            "Epoch 1/25\n",
            "5693/5693 [==============================] - 136s 24ms/step - loss: 0.1609 - accuracy: 0.7711 - val_loss: 0.1465 - val_accuracy: 0.7936\n",
            "Epoch 2/25\n",
            "5693/5693 [==============================] - 134s 24ms/step - loss: 0.1415 - accuracy: 0.8037 - val_loss: 0.1384 - val_accuracy: 0.8090\n",
            "Epoch 3/25\n",
            "5693/5693 [==============================] - 133s 23ms/step - loss: 0.1340 - accuracy: 0.8157 - val_loss: 0.1343 - val_accuracy: 0.8146\n",
            "Epoch 4/25\n",
            "5693/5693 [==============================] - 134s 24ms/step - loss: 0.1290 - accuracy: 0.8236 - val_loss: 0.1317 - val_accuracy: 0.8173\n",
            "Epoch 5/25\n",
            "5693/5693 [==============================] - 133s 23ms/step - loss: 0.1251 - accuracy: 0.8300 - val_loss: 0.1296 - val_accuracy: 0.8248\n",
            "Epoch 6/25\n",
            "5693/5693 [==============================] - 134s 24ms/step - loss: 0.1219 - accuracy: 0.8353 - val_loss: 0.1287 - val_accuracy: 0.8219\n",
            "Epoch 7/25\n",
            "5693/5693 [==============================] - 134s 23ms/step - loss: 0.1193 - accuracy: 0.8395 - val_loss: 0.1274 - val_accuracy: 0.8274\n",
            "Epoch 8/25\n",
            "5693/5693 [==============================] - 133s 23ms/step - loss: 0.1172 - accuracy: 0.8430 - val_loss: 0.1264 - val_accuracy: 0.8283\n",
            "Epoch 9/25\n",
            "5693/5693 [==============================] - 132s 23ms/step - loss: 0.1153 - accuracy: 0.8464 - val_loss: 0.1252 - val_accuracy: 0.8284\n",
            "Epoch 10/25\n",
            "5693/5693 [==============================] - 132s 23ms/step - loss: 0.1135 - accuracy: 0.8495 - val_loss: 0.1249 - val_accuracy: 0.8297\n",
            "Epoch 11/25\n",
            "5693/5693 [==============================] - 133s 23ms/step - loss: 0.1120 - accuracy: 0.8520 - val_loss: 0.1241 - val_accuracy: 0.8304\n",
            "Epoch 12/25\n",
            "5693/5693 [==============================] - 132s 23ms/step - loss: 0.1107 - accuracy: 0.8545 - val_loss: 0.1236 - val_accuracy: 0.8309\n",
            "Epoch 13/25\n",
            "5693/5693 [==============================] - 133s 23ms/step - loss: 0.1094 - accuracy: 0.8568 - val_loss: 0.1230 - val_accuracy: 0.8343\n",
            "Epoch 14/25\n",
            "5693/5693 [==============================] - 133s 23ms/step - loss: 0.1082 - accuracy: 0.8584 - val_loss: 0.1224 - val_accuracy: 0.8333\n",
            "Epoch 15/25\n",
            "5693/5693 [==============================] - 133s 23ms/step - loss: 0.1071 - accuracy: 0.8605 - val_loss: 0.1223 - val_accuracy: 0.8339\n",
            "Epoch 16/25\n",
            "5693/5693 [==============================] - 132s 23ms/step - loss: 0.1061 - accuracy: 0.8624 - val_loss: 0.1222 - val_accuracy: 0.8326\n",
            "Epoch 17/25\n",
            "5693/5693 [==============================] - 131s 23ms/step - loss: 0.1049 - accuracy: 0.8644 - val_loss: 0.1219 - val_accuracy: 0.8342\n",
            "Epoch 18/25\n",
            "5693/5693 [==============================] - 131s 23ms/step - loss: 0.1042 - accuracy: 0.8652 - val_loss: 0.1215 - val_accuracy: 0.8364\n",
            "Epoch 19/25\n",
            "5693/5693 [==============================] - 132s 23ms/step - loss: 0.1033 - accuracy: 0.8669 - val_loss: 0.1215 - val_accuracy: 0.8341\n",
            "Epoch 20/25\n",
            "5693/5693 [==============================] - 135s 24ms/step - loss: 0.1024 - accuracy: 0.8683 - val_loss: 0.1212 - val_accuracy: 0.8359\n",
            "Epoch 21/25\n",
            "5693/5693 [==============================] - 136s 24ms/step - loss: 0.1018 - accuracy: 0.8695 - val_loss: 0.1212 - val_accuracy: 0.8348\n",
            "Epoch 22/25\n",
            "5693/5693 [==============================] - 137s 24ms/step - loss: 0.1009 - accuracy: 0.8709 - val_loss: 0.1212 - val_accuracy: 0.8358\n",
            "Epoch 23/25\n",
            "5693/5693 [==============================] - 137s 24ms/step - loss: 0.1003 - accuracy: 0.8720 - val_loss: 0.1215 - val_accuracy: 0.8361\n",
            "Epoch 24/25\n",
            "5693/5693 [==============================] - 136s 24ms/step - loss: 0.1004 - accuracy: 0.8715 - val_loss: 0.1237 - val_accuracy: 0.8322\n",
            "Epoch 25/25\n",
            "5693/5693 [==============================] - 133s 23ms/step - loss: 0.1030 - accuracy: 0.8668 - val_loss: 0.1223 - val_accuracy: 0.8345\n",
            "Training time finished.\n",
            "25 epochs in 0:55:44.723966\n"
          ],
          "name": "stdout"
        }
      ]
    },
    {
      "cell_type": "markdown",
      "metadata": {
        "id": "L2eznc61GNeg"
      },
      "source": [
        "\n",
        "Plotting the results"
      ]
    },
    {
      "cell_type": "code",
      "metadata": {
        "id": "cS-T6YoBGPDE",
        "colab": {
          "base_uri": "https://localhost:8080/",
          "height": 295
        },
        "outputId": "09c46ab5-9b6d-4662-ca71-bb94bb9ca4b5"
      },
      "source": [
        "# Plot accuracy\n",
        "plt.plot(malstm_trained.history['accuracy'])\n",
        "plt.plot(malstm_trained.history['val_accuracy'])\n",
        "plt.title('Model Accuracy')\n",
        "plt.ylabel('Accuracy')\n",
        "plt.xlabel('Epoch')\n",
        "plt.legend(['Train', 'Validation'], loc='upper left')\n",
        "plt.show()\n"
      ],
      "execution_count": 87,
      "outputs": [
        {
          "output_type": "display_data",
          "data": {
            "image/png": "[encoded data removed]",
            "text/plain": [
              "<Figure size 432x288 with 1 Axes>"
            ]
          },
          "metadata": {
            "tags": [],
            "needs_background": "light"
          }
        }
      ]
    },
    {
      "cell_type": "code",
      "metadata": {
        "colab": {
          "base_uri": "https://localhost:8080/",
          "height": 295
        },
        "id": "xIsBU1Eb7Cva",
        "outputId": "3c3b8b58-5c9b-4f0d-f8d9-fe671b19c0e1"
      },
      "source": [
        "# Plot loss\n",
        "plt.plot(malstm_trained.history['loss'])\n",
        "plt.plot(malstm_trained.history['val_loss'])\n",
        "plt.title('Model Loss')\n",
        "plt.ylabel('Loss')\n",
        "plt.xlabel('Epoch')\n",
        "plt.legend(['Train', 'Validation'], loc='upper right')\n",
        "plt.show()"
      ],
      "execution_count": 88,
      "outputs": [
        {
          "output_type": "display_data",
          "data": {
            "image/png": "[encoded data removed]",
            "text/plain": [
              "<Figure size 432x288 with 1 Axes>"
            ]
          },
          "metadata": {
            "tags": [],
            "needs_background": "light"
          }
        }
      ]
    },
    {
      "cell_type": "code",
      "metadata": {
        "id": "hNh8-BnhuDwa"
      },
      "source": [
        "#Saving the model\n",
        "malstm.save('trained_model.h5')"
      ],
      "execution_count": 77,
      "outputs": []
    },
    {
      "cell_type": "markdown",
      "metadata": {
        "id": "UUtpSrOos7N4"
      },
      "source": [
        "Testing the model "
      ]
    },
    {
      "cell_type": "code",
      "metadata": {
        "colab": {
          "base_uri": "https://localhost:8080/",
          "height": 0
        },
        "id": "A5xvUoMhwmcJ",
        "outputId": "1f56c452-2f1a-4214-9bc6-3f748a101370"
      },
      "source": [
        "#Testing by a submission on Kaggle \n",
        "\n",
        "#Prediction\n",
        "prediction = malstm.predict([X_test['left'], X_test['right']], verbose=1)"
      ],
      "execution_count": 81,
      "outputs": [
        {
          "output_type": "stream",
          "text": [
            "73307/73307 [==============================] - 776s 11ms/step\n"
          ],
          "name": "stdout"
        }
      ]
    },
    {
      "cell_type": "code",
      "metadata": {
        "id": "6XYdKgafwmZX"
      },
      "source": [
        "#Saving Predictions\n",
        "np.savetxt('predictions.txt', prediction)"
      ],
      "execution_count": 82,
      "outputs": []
    },
    {
      "cell_type": "code",
      "metadata": {
        "id": "5m0irNvgwmQa"
      },
      "source": [
        "#Loading Predictions\n",
        "predict = np.loadtxt('predictions.txt')"
      ],
      "execution_count": 84,
      "outputs": []
    },
    {
      "cell_type": "code",
      "metadata": {
        "id": "Mt0OuomEyAZc"
      },
      "source": [
        "#Kaggle Submission File\n",
        "\n",
        "data = {'test_id': np.arange(len(prediction)), 'is_duplicate': np.squeeze(prediction)} # squeeze to convert to one-dimensional\n",
        "submission = pd.DataFrame(data, columns=data.keys()) # preserving order"
      ],
      "execution_count": 85,
      "outputs": []
    },
    {
      "cell_type": "code",
      "metadata": {
        "id": "ZrpiYxsbyRSa"
      },
      "source": [
        "submission.to_csv('submission_MaLSTM.csv', header=list(submission), index=False)"
      ],
      "execution_count": 86,
      "outputs": []
    }
  ]
}